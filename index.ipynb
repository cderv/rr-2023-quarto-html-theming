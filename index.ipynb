{
  "cells": [
    {
      "cell_type": "raw",
      "metadata": {},
      "source": [
        "---\n",
        "title: \"Se démarquer avec les thèmes HTML Quarto\"\n",
        "lang: fr\n",
        "subtitle: Rencontres R 2023\n",
        "author: \"Christophe Dervieux\"\n",
        "institute: \"Posit PBC\"\n",
        "date: 06/21/2023\n",
        "format:\n",
        "  clean-revealjs:\n",
        "    theme: [default, reveal-style.scss]\n",
        "    code-line-numbers: false\n",
        "    slide-number: true\n",
        "    mermaid-format: png\n",
        "    preview-links: auto\n",
        "    multiplex: true\n",
        "revealjs-plugins:\n",
        "  - attribution\n",
        "---"
      ],
      "id": "21859362"
    },
    {
      "cell_type": "markdown",
      "metadata": {},
      "source": [
        "# Qu'est-ce que Quarto ?\n",
        "\n",
        "C'est comme R Markdown non ? \n",
        "\n",
        "## Quarto ... {.smaller}\n",
        "\n",
        "... est un nouveau [système de publication scientifique et technique Open-Source]{.hl}, basé sur [Pandoc]{.hl}, pensé et construit sur les [+10 ans d'expérience avec R Markdown]{.hl}\n"
      ],
      "id": "2cafbfc3"
    },
    {
      "cell_type": "code",
      "metadata": {},
      "source": [
        "quarto render document.qmd"
      ],
      "id": "732bdbd0",
      "execution_count": null,
      "outputs": []
    },
    {
      "cell_type": "markdown",
      "metadata": {},
      "source": [
        "![Illustration de la présentation \"Hello, Quarto\" par Julia Lowndes et Mine Çetinkaya-Rundel, présentée à la conférence RStudio 2022. Illustré par Allison Horst.](images/horst_quarto_schematic.png){fig-alt=\"Un schéma représentant la polyvalence de Quarto en matière d'entrée multilingue (par exemple Python, R, Observable, Julia) et de sortie multiformat (par exemple PDF, html, documents Word, et plus encore).\" fig-align=\"center\"}"
      ],
      "id": "43d2ce92"
    }
  ],
  "metadata": {
    "kernelspec": {
      "name": "bash",
      "language": "bash",
      "display_name": "Bash"
    }
  },
  "nbformat": 4,
  "nbformat_minor": 5
}